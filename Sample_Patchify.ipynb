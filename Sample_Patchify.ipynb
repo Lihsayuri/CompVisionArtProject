{
 "cells": [
  {
   "cell_type": "code",
   "execution_count": 5,
   "metadata": {},
   "outputs": [],
   "source": [
    "from patchify import patchify\n",
    "from PIL import Image\n",
    "import numpy as np"
   ]
  },
  {
   "cell_type": "code",
   "execution_count": 42,
   "metadata": {},
   "outputs": [
    {
     "name": "stdout",
     "output_type": "stream",
     "text": [
      "Original Size: (691, 1000)\n",
      "Resized Image Size: (250, 250)\n"
     ]
    }
   ],
   "source": [
    "# Define the path and image file\n",
    "path = \"Genres/Baroque/\"\n",
    "image = \"Caravaggio_1.jpg\"\n",
    "image_path = path + image\n",
    "\n",
    "# Open the image\n",
    "img = Image.open(image_path)\n",
    "\n",
    "# Convert the image to a NumPy array\n",
    "img_np = np.array(img)\n",
    "\n",
    "resize_size = 250\n",
    "\n",
    "img_resized = img.resize((resize_size,resize_size))\n",
    "print(f\"Original Size: {img.size}\\nResized Image Size: {img_resized.size}\")\n",
    "\n",
    "img_np = np.array(img_resized)"
   ]
  },
  {
   "cell_type": "code",
   "execution_count": 52,
   "metadata": {},
   "outputs": [
    {
     "name": "stdout",
     "output_type": "stream",
     "text": [
      "Original Size: (691, 1000)\n",
      "Resized Image Size: (250, 250)\n",
      "Patches shape: (2, 2, 1, 125, 125, 3)\n",
      "All patches have been saved successfully.\n"
     ]
    }
   ],
   "source": [
    "import os\n",
    "from PIL import Image\n",
    "import numpy as np\n",
    "from patchify import patchify\n",
    "\n",
    "# Define the path and image file\n",
    "path = \"Genres/Baroque/\"\n",
    "image = \"Caravaggio_1.jpg\"\n",
    "image_name = image.split(\".\")[0]\n",
    "image_path = path + image\n",
    "\n",
    "# Open the image\n",
    "img = Image.open(image_path)\n",
    "\n",
    "# Resize the image\n",
    "resize_size = 250\n",
    "img_resized = img.resize((resize_size, resize_size))\n",
    "#print(f\"Original Size: {img.size}\\nResized Image Size: {img_resized.size}\")\n",
    "\n",
    "# Convert the resized image to a NumPy array\n",
    "img_np = np.array(img_resized)\n",
    "\n",
    "# Define the patch size and step\n",
    "patch_size = 125  # Tamanho do patch (50x50 pixels)\n",
    "step = 125        # Passo de extração dos patches\n",
    "\n",
    "# Create patches\n",
    "patches_img = patchify(img_np, (patch_size, patch_size, 3), step=step)\n",
    "#print(\"Patches shape:\", patches_img.shape)\n",
    "\n",
    "\n",
    "# Create a directory to save the patches\n",
    "output_dir = \"Genres_path/{entry}\"\n",
    "if not os.path.exists(output_dir):\n",
    "    os.makedirs(output_dir)\n",
    "\n",
    "# Save each patch as an image\n",
    "for i in range(patches_img.shape[0]):\n",
    "    for j in range(patches_img.shape[1]):\n",
    "        # Access the patch\n",
    "        patch = patches_img[i, j, 0]  # Remove singleton dimensions\n",
    "        patch_img = Image.fromarray(patch)\n",
    "        \n",
    "        # Construct the filename and path to save the patch\n",
    "        filename = f\"patch_{image_name}_{i}_{j}.jpg\"\n",
    "        patch_img.save(os.path.join(output_dir, filename))\n",
    "\n",
    "print(\"All patches have been saved successfully.\")"
   ]
  },
  {
   "cell_type": "code",
   "execution_count": 65,
   "metadata": {},
   "outputs": [
    {
     "name": "stdout",
     "output_type": "stream",
     "text": [
      "All patches for Abstractionism have been saved successfully.\n",
      "All patches for Baroque have been saved successfully.\n",
      "Image Pablo_Picasso_105 está bricada: `window_shape` is incompatible with `arr_in.shape`\n",
      "Image Pablo_Picasso_148 está bricada: `window_shape` is incompatible with `arr_in.shape`\n",
      "Image Pablo_Picasso_177 está bricada: `window_shape` is incompatible with `arr_in.shape`\n",
      "Image Pablo_Picasso_417 está bricada: `window_shape` is incompatible with `arr_in.shape`\n",
      "Image Pablo_Picasso_425 está bricada: `window_shape` is incompatible with `arr_in.shape`\n",
      "Image Pablo_Picasso_65 está bricada: `window_shape` is incompatible with `arr_in.shape`\n",
      "All patches for Cubism have been saved successfully.\n",
      "All patches for Post_Impressionism have been saved successfully.\n",
      "Image Leonardo_da_Vinci_140 está bricada: `window_shape` is incompatible with `arr_in.shape`\n",
      "Image Leonardo_da_Vinci_141 está bricada: `window_shape` is incompatible with `arr_in.shape`\n",
      "Image Titian_233 está bricada: `window_shape` is incompatible with `arr_in.shape`\n",
      "All patches for Renaissance have been saved successfully.\n",
      "All patches for Surrealism have been saved successfully.\n",
      "All patches for Symbolism have been saved successfully.\n"
     ]
    }
   ],
   "source": [
    "for entry in os.listdir(basepath):\n",
    "    # Define the path and image file\n",
    "    path = f\"Genres/{entry}/\"\n",
    "    #print(f\"{path}\\n\\n\")\n",
    "    if os.path.isdir(os.path.join(basepath, entry)):\n",
    "        image_path = os.path.join(basepath, entry)\n",
    "        images_arq = os.listdir(image_path)\n",
    "        for image in images_arq:\n",
    "            try:\n",
    "                image_name = image.split(\".\")[0]\n",
    "                image_path = path + image\n",
    "\n",
    "                #print(image_name)\n",
    "\n",
    "                # Open the image\n",
    "                img = Image.open(image_path)\n",
    "\n",
    "                # Resize the image\n",
    "                resize_size = 250\n",
    "                img_resized = img.resize((resize_size, resize_size))\n",
    "                #print(f\"Original Size: {img.size}\\nResized Image Size: {img_resized.size}\")\n",
    "\n",
    "                # Convert the resized image to a NumPy array\n",
    "                img_np = np.array(img_resized)\n",
    "\n",
    "                # Define the patch size and step\n",
    "                patch_size = 125  # Tamanho do patch (50x50 pixels)\n",
    "                step = 125        # Passo de extração dos patches\n",
    "\n",
    "                # Create patches\n",
    "                patches_img = patchify(img_np, (patch_size, patch_size, 3), step=step)\n",
    "                #print(\"Patches shape:\", patches_img.shape)\n",
    "                output_dir = f\"Genres_path/{entry}\"\n",
    "                if not os.path.exists(output_dir):\n",
    "                    os.makedirs(output_dir)\n",
    "\n",
    "                # Save each patch as an image\n",
    "                for i in range(patches_img.shape[0]):\n",
    "                    for j in range(patches_img.shape[1]):\n",
    "                        # Access the patch\n",
    "                        patch = patches_img[i, j, 0]  # Remove singleton dimensions\n",
    "                        patch_img = Image.fromarray(patch)\n",
    "\n",
    "                        # Construct the filename and path to save the patch\n",
    "                        filename = f\"patch_{image_name}_{i}_{j}.jpg\"\n",
    "                        patch_img.save(os.path.join(output_dir, filename))\n",
    "            except Exception as e:\n",
    "                print(f\"Image {image_name} está bricada: {e}\")\n",
    "\n",
    "        print(f\"All patches for {entry} have been saved successfully.\")"
   ]
  },
  {
   "cell_type": "code",
   "execution_count": null,
   "metadata": {},
   "outputs": [],
   "source": []
  }
 ],
 "metadata": {
  "kernelspec": {
   "display_name": "Python 3",
   "language": "python",
   "name": "python3"
  },
  "language_info": {
   "codemirror_mode": {
    "name": "ipython",
    "version": 3
   },
   "file_extension": ".py",
   "mimetype": "text/x-python",
   "name": "python",
   "nbconvert_exporter": "python",
   "pygments_lexer": "ipython3",
   "version": "3.8.5"
  }
 },
 "nbformat": 4,
 "nbformat_minor": 4
}
